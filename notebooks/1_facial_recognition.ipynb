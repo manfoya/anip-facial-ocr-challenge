{
 "cells": [
  {
   "cell_type": "markdown",
   "id": "b9e9fb06",
   "metadata": {},
   "source": [
    "# Tâche 1 : Reconnaissance Faciale\n",
    "\n",
    "Ce notebook contient le code pour la première tâche du challenge ANIP : reconnaissance faciale.\n",
    "\n",
    "## Objectifs\n",
    "- Charger et préprocesser les données d'images faciales\n",
    "- Développer un modèle de reconnaissance faciale\n",
    "- Évaluer les performances du modèle\n",
    "- Préparer la soumission finale"
   ]
  },
  {
   "cell_type": "code",
   "execution_count": null,
   "id": "4060364d",
   "metadata": {},
   "outputs": [],
   "source": [
    "# Importation des bibliothèques\n",
    "import os\n",
    "import sys\n",
    "import numpy as np\n",
    "import pandas as pd\n",
    "import matplotlib.pyplot as plt\n",
    "import seaborn as sns\n",
    "from pathlib import Path\n",
    "\n",
    "# Ajout du dossier src au path pour importer nos modules\n",
    "sys.path.append('../src')\n",
    "\n",
    "# Configuration des graphiques\n",
    "plt.style.use('seaborn-v0_8')\n",
    "sns.set_palette(\"husl\")\n",
    "\n",
    "print(\"Bibliothèques importées avec succès !\")"
   ]
  },
  {
   "cell_type": "markdown",
   "id": "53e886fa",
   "metadata": {},
   "source": [
    "## 1. Configuration des chemins de données"
   ]
  },
  {
   "cell_type": "code",
   "execution_count": null,
   "id": "8461983e",
   "metadata": {},
   "outputs": [],
   "source": [
    "# Configuration des chemins\n",
    "BASE_DIR = Path('..')\n",
    "DATA_DIR = BASE_DIR / 'data' / 'tache1_facial_recognition'\n",
    "TRAIN_DIR = DATA_DIR / 'train'\n",
    "TEST_DIR = DATA_DIR / 'test'\n",
    "\n",
    "print(f\"Dossier de données d'entraînement : {TRAIN_DIR}\")\n",
    "print(f\"Dossier de données de test : {TEST_DIR}\")\n",
    "\n",
    "# Vérification de l'existence des dossiers\n",
    "print(f\"Dossier train existe : {TRAIN_DIR.exists()}\")\n",
    "print(f\"Dossier test existe : {TEST_DIR.exists()}\")"
   ]
  }
 ],
 "metadata": {
  "language_info": {
   "name": "python"
  }
 },
 "nbformat": 4,
 "nbformat_minor": 5
}
